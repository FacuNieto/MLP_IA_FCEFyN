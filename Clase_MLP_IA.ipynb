{
  "nbformat": 4,
  "nbformat_minor": 0,
  "metadata": {
    "colab": {
      "provenance": [],
      "authorship_tag": "ABX9TyNJIRkd0v6mwAFN5319W0kI",
      "include_colab_link": true
    },
    "kernelspec": {
      "name": "python3",
      "display_name": "Python 3"
    },
    "language_info": {
      "name": "python"
    }
  },
  "cells": [
    {
      "cell_type": "markdown",
      "metadata": {
        "id": "view-in-github",
        "colab_type": "text"
      },
      "source": [
        "<a href=\"https://colab.research.google.com/github/FacuNieto/MLP_IA_FCEFyN/blob/main/Clase_MLP_IA.ipynb\" target=\"_parent\"><img src=\"https://colab.research.google.com/assets/colab-badge.svg\" alt=\"Open In Colab\"/></a>"
      ]
    },
    {
      "cell_type": "markdown",
      "source": [
        "# MLP"
      ],
      "metadata": {
        "id": "TQZUMchw3Oyk"
      }
    },
    {
      "cell_type": "markdown",
      "source": [
        "# **MLP en TensorFlow!**"
      ],
      "metadata": {
        "id": "epjl0I374WMW"
      }
    },
    {
      "cell_type": "markdown",
      "source": [
        "![image.png](data:image/png;base64,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)\n",
        "\n",
        "\n",
        "\n"
      ],
      "metadata": {
        "id": "X3S4pg9XRb4g"
      }
    },
    {
      "cell_type": "markdown",
      "source": [
        "# 1. Ejemplo Iris"
      ],
      "metadata": {
        "id": "vt1_lUl70e-G"
      }
    },
    {
      "cell_type": "markdown",
      "source": [
        "## 1.1 Cargar Dataset"
      ],
      "metadata": {
        "id": "7kkhZ-IQ4g5f"
      }
    },
    {
      "cell_type": "code",
      "source": [
        "#importar librerias\n",
        "import numpy as np\n",
        "import pandas as pd\n",
        "import matplotlib.pyplot as plt\n",
        "from skimage import io\n",
        "from google.colab.patches import cv2_imshow\n",
        "import cv2\n",
        "import tensorflow as tf\n",
        "from tensorflow.keras.datasets import fashion_mnist\n",
        "from tensorflow.keras.layers import Conv2D, MaxPooling2D, Flatten, Dense, Dropout\n",
        "from sklearn.preprocessing import LabelEncoder\n",
        "import matplotlib.pyplot as plt\n",
        "from sklearn.datasets import load_iris\n",
        "from sklearn.preprocessing import MinMaxScaler\n",
        "from sklearn.model_selection import train_test_split\n",
        "\n",
        "plt.style.use('dark_background')"
      ],
      "metadata": {
        "id": "1wsmWFMS3OSU"
      },
      "execution_count": 3,
      "outputs": []
    },
    {
      "cell_type": "code",
      "source": [
        "# Importamos el csv \n",
        "df_iris = pd.read_csv('iris.csv')"
      ],
      "metadata": {
        "id": "dbCBnTYw47gD"
      },
      "execution_count": 4,
      "outputs": []
    },
    {
      "cell_type": "code",
      "source": [
        "# Veamos el Dataframe \n",
        "df_iris"
      ],
      "metadata": {
        "colab": {
          "base_uri": "https://localhost:8080/",
          "height": 424
        },
        "id": "JbzystJM8_56",
        "outputId": "97ce93fc-7aa1-4e9b-a597-b39ea42cb590"
      },
      "execution_count": 5,
      "outputs": [
        {
          "output_type": "execute_result",
          "data": {
            "text/plain": [
              "     sepal length (cm)  sepal width (cm)  petal length (cm)  petal width (cm)  \\\n",
              "0                  5.1               3.5                1.4               0.2   \n",
              "1                  4.9               3.0                1.4               0.2   \n",
              "2                  4.7               3.2                1.3               0.2   \n",
              "3                  4.6               3.1                1.5               0.2   \n",
              "4                  5.0               3.6                1.4               0.2   \n",
              "..                 ...               ...                ...               ...   \n",
              "145                6.7               3.0                5.2               2.3   \n",
              "146                6.3               2.5                5.0               1.9   \n",
              "147                6.5               3.0                5.2               2.0   \n",
              "148                6.2               3.4                5.4               2.3   \n",
              "149                5.9               3.0                5.1               1.8   \n",
              "\n",
              "        target  \n",
              "0       setosa  \n",
              "1       setosa  \n",
              "2       setosa  \n",
              "3       setosa  \n",
              "4       setosa  \n",
              "..         ...  \n",
              "145  virginica  \n",
              "146  virginica  \n",
              "147  virginica  \n",
              "148  virginica  \n",
              "149  virginica  \n",
              "\n",
              "[150 rows x 5 columns]"
            ],
            "text/html": [
              "\n",
              "  <div id=\"df-8fc8734f-c16f-4e37-979d-6e597e9b57ef\">\n",
              "    <div class=\"colab-df-container\">\n",
              "      <div>\n",
              "<style scoped>\n",
              "    .dataframe tbody tr th:only-of-type {\n",
              "        vertical-align: middle;\n",
              "    }\n",
              "\n",
              "    .dataframe tbody tr th {\n",
              "        vertical-align: top;\n",
              "    }\n",
              "\n",
              "    .dataframe thead th {\n",
              "        text-align: right;\n",
              "    }\n",
              "</style>\n",
              "<table border=\"1\" class=\"dataframe\">\n",
              "  <thead>\n",
              "    <tr style=\"text-align: right;\">\n",
              "      <th></th>\n",
              "      <th>sepal length (cm)</th>\n",
              "      <th>sepal width (cm)</th>\n",
              "      <th>petal length (cm)</th>\n",
              "      <th>petal width (cm)</th>\n",
              "      <th>target</th>\n",
              "    </tr>\n",
              "  </thead>\n",
              "  <tbody>\n",
              "    <tr>\n",
              "      <th>0</th>\n",
              "      <td>5.1</td>\n",
              "      <td>3.5</td>\n",
              "      <td>1.4</td>\n",
              "      <td>0.2</td>\n",
              "      <td>setosa</td>\n",
              "    </tr>\n",
              "    <tr>\n",
              "      <th>1</th>\n",
              "      <td>4.9</td>\n",
              "      <td>3.0</td>\n",
              "      <td>1.4</td>\n",
              "      <td>0.2</td>\n",
              "      <td>setosa</td>\n",
              "    </tr>\n",
              "    <tr>\n",
              "      <th>2</th>\n",
              "      <td>4.7</td>\n",
              "      <td>3.2</td>\n",
              "      <td>1.3</td>\n",
              "      <td>0.2</td>\n",
              "      <td>setosa</td>\n",
              "    </tr>\n",
              "    <tr>\n",
              "      <th>3</th>\n",
              "      <td>4.6</td>\n",
              "      <td>3.1</td>\n",
              "      <td>1.5</td>\n",
              "      <td>0.2</td>\n",
              "      <td>setosa</td>\n",
              "    </tr>\n",
              "    <tr>\n",
              "      <th>4</th>\n",
              "      <td>5.0</td>\n",
              "      <td>3.6</td>\n",
              "      <td>1.4</td>\n",
              "      <td>0.2</td>\n",
              "      <td>setosa</td>\n",
              "    </tr>\n",
              "    <tr>\n",
              "      <th>...</th>\n",
              "      <td>...</td>\n",
              "      <td>...</td>\n",
              "      <td>...</td>\n",
              "      <td>...</td>\n",
              "      <td>...</td>\n",
              "    </tr>\n",
              "    <tr>\n",
              "      <th>145</th>\n",
              "      <td>6.7</td>\n",
              "      <td>3.0</td>\n",
              "      <td>5.2</td>\n",
              "      <td>2.3</td>\n",
              "      <td>virginica</td>\n",
              "    </tr>\n",
              "    <tr>\n",
              "      <th>146</th>\n",
              "      <td>6.3</td>\n",
              "      <td>2.5</td>\n",
              "      <td>5.0</td>\n",
              "      <td>1.9</td>\n",
              "      <td>virginica</td>\n",
              "    </tr>\n",
              "    <tr>\n",
              "      <th>147</th>\n",
              "      <td>6.5</td>\n",
              "      <td>3.0</td>\n",
              "      <td>5.2</td>\n",
              "      <td>2.0</td>\n",
              "      <td>virginica</td>\n",
              "    </tr>\n",
              "    <tr>\n",
              "      <th>148</th>\n",
              "      <td>6.2</td>\n",
              "      <td>3.4</td>\n",
              "      <td>5.4</td>\n",
              "      <td>2.3</td>\n",
              "      <td>virginica</td>\n",
              "    </tr>\n",
              "    <tr>\n",
              "      <th>149</th>\n",
              "      <td>5.9</td>\n",
              "      <td>3.0</td>\n",
              "      <td>5.1</td>\n",
              "      <td>1.8</td>\n",
              "      <td>virginica</td>\n",
              "    </tr>\n",
              "  </tbody>\n",
              "</table>\n",
              "<p>150 rows × 5 columns</p>\n",
              "</div>\n",
              "      <button class=\"colab-df-convert\" onclick=\"convertToInteractive('df-8fc8734f-c16f-4e37-979d-6e597e9b57ef')\"\n",
              "              title=\"Convert this dataframe to an interactive table.\"\n",
              "              style=\"display:none;\">\n",
              "        \n",
              "  <svg xmlns=\"http://www.w3.org/2000/svg\" height=\"24px\"viewBox=\"0 0 24 24\"\n",
              "       width=\"24px\">\n",
              "    <path d=\"M0 0h24v24H0V0z\" fill=\"none\"/>\n",
              "    <path d=\"M18.56 5.44l.94 2.06.94-2.06 2.06-.94-2.06-.94-.94-2.06-.94 2.06-2.06.94zm-11 1L8.5 8.5l.94-2.06 2.06-.94-2.06-.94L8.5 2.5l-.94 2.06-2.06.94zm10 10l.94 2.06.94-2.06 2.06-.94-2.06-.94-.94-2.06-.94 2.06-2.06.94z\"/><path d=\"M17.41 7.96l-1.37-1.37c-.4-.4-.92-.59-1.43-.59-.52 0-1.04.2-1.43.59L10.3 9.45l-7.72 7.72c-.78.78-.78 2.05 0 2.83L4 21.41c.39.39.9.59 1.41.59.51 0 1.02-.2 1.41-.59l7.78-7.78 2.81-2.81c.8-.78.8-2.07 0-2.86zM5.41 20L4 18.59l7.72-7.72 1.47 1.35L5.41 20z\"/>\n",
              "  </svg>\n",
              "      </button>\n",
              "      \n",
              "  <style>\n",
              "    .colab-df-container {\n",
              "      display:flex;\n",
              "      flex-wrap:wrap;\n",
              "      gap: 12px;\n",
              "    }\n",
              "\n",
              "    .colab-df-convert {\n",
              "      background-color: #E8F0FE;\n",
              "      border: none;\n",
              "      border-radius: 50%;\n",
              "      cursor: pointer;\n",
              "      display: none;\n",
              "      fill: #1967D2;\n",
              "      height: 32px;\n",
              "      padding: 0 0 0 0;\n",
              "      width: 32px;\n",
              "    }\n",
              "\n",
              "    .colab-df-convert:hover {\n",
              "      background-color: #E2EBFA;\n",
              "      box-shadow: 0px 1px 2px rgba(60, 64, 67, 0.3), 0px 1px 3px 1px rgba(60, 64, 67, 0.15);\n",
              "      fill: #174EA6;\n",
              "    }\n",
              "\n",
              "    [theme=dark] .colab-df-convert {\n",
              "      background-color: #3B4455;\n",
              "      fill: #D2E3FC;\n",
              "    }\n",
              "\n",
              "    [theme=dark] .colab-df-convert:hover {\n",
              "      background-color: #434B5C;\n",
              "      box-shadow: 0px 1px 3px 1px rgba(0, 0, 0, 0.15);\n",
              "      filter: drop-shadow(0px 1px 2px rgba(0, 0, 0, 0.3));\n",
              "      fill: #FFFFFF;\n",
              "    }\n",
              "  </style>\n",
              "\n",
              "      <script>\n",
              "        const buttonEl =\n",
              "          document.querySelector('#df-8fc8734f-c16f-4e37-979d-6e597e9b57ef button.colab-df-convert');\n",
              "        buttonEl.style.display =\n",
              "          google.colab.kernel.accessAllowed ? 'block' : 'none';\n",
              "\n",
              "        async function convertToInteractive(key) {\n",
              "          const element = document.querySelector('#df-8fc8734f-c16f-4e37-979d-6e597e9b57ef');\n",
              "          const dataTable =\n",
              "            await google.colab.kernel.invokeFunction('convertToInteractive',\n",
              "                                                     [key], {});\n",
              "          if (!dataTable) return;\n",
              "\n",
              "          const docLinkHtml = 'Like what you see? Visit the ' +\n",
              "            '<a target=\"_blank\" href=https://colab.research.google.com/notebooks/data_table.ipynb>data table notebook</a>'\n",
              "            + ' to learn more about interactive tables.';\n",
              "          element.innerHTML = '';\n",
              "          dataTable['output_type'] = 'display_data';\n",
              "          await google.colab.output.renderOutput(dataTable, element);\n",
              "          const docLink = document.createElement('div');\n",
              "          docLink.innerHTML = docLinkHtml;\n",
              "          element.appendChild(docLink);\n",
              "        }\n",
              "      </script>\n",
              "    </div>\n",
              "  </div>\n",
              "  "
            ]
          },
          "metadata": {},
          "execution_count": 5
        }
      ]
    },
    {
      "cell_type": "markdown",
      "source": [
        "## 1.2 Encoding"
      ],
      "metadata": {
        "id": "0xBlP3R8-z0C"
      }
    },
    {
      "cell_type": "code",
      "source": [
        "# Crear un diccionario que mapea cada etiqueta categórica de la columna \"target\" a su valor codificado correspondiente.\n",
        "diccionario_aux = {'setosa': 0, 'versicolor': 1, 'virginica': 2}\n",
        "\n",
        "# Inicializar una lista vacía para almacenar las etiquetas codificadas.\n",
        "target_codificado = []\n",
        "\n",
        "# Recorrer cada elemento de la columna \"target\" del DataFrame `df_iris`.\n",
        "for elemento in df_iris[\"target\"]:\n",
        "  target_codificado.append(diccionario_aux[elemento])\n",
        "\n",
        "# Actualizar la columna \"target\" del DataFrame `df_iris` con la lista de etiquetas codificadas.\n",
        "df_iris[\"target\"] = target_codificado\n",
        "\n",
        "# Devolver el DataFrame `df_iris` con las etiquetas codificadas.\n",
        "df_iris\n"
      ],
      "metadata": {
        "colab": {
          "base_uri": "https://localhost:8080/",
          "height": 424
        },
        "id": "S8ooOS3_5F8L",
        "outputId": "4958b1e3-fc38-41ef-abe9-8592b6546470"
      },
      "execution_count": 6,
      "outputs": [
        {
          "output_type": "execute_result",
          "data": {
            "text/plain": [
              "     sepal length (cm)  sepal width (cm)  petal length (cm)  petal width (cm)  \\\n",
              "0                  5.1               3.5                1.4               0.2   \n",
              "1                  4.9               3.0                1.4               0.2   \n",
              "2                  4.7               3.2                1.3               0.2   \n",
              "3                  4.6               3.1                1.5               0.2   \n",
              "4                  5.0               3.6                1.4               0.2   \n",
              "..                 ...               ...                ...               ...   \n",
              "145                6.7               3.0                5.2               2.3   \n",
              "146                6.3               2.5                5.0               1.9   \n",
              "147                6.5               3.0                5.2               2.0   \n",
              "148                6.2               3.4                5.4               2.3   \n",
              "149                5.9               3.0                5.1               1.8   \n",
              "\n",
              "     target  \n",
              "0         0  \n",
              "1         0  \n",
              "2         0  \n",
              "3         0  \n",
              "4         0  \n",
              "..      ...  \n",
              "145       2  \n",
              "146       2  \n",
              "147       2  \n",
              "148       2  \n",
              "149       2  \n",
              "\n",
              "[150 rows x 5 columns]"
            ],
            "text/html": [
              "\n",
              "  <div id=\"df-aba39d39-05b7-4b71-a7b9-b9498ffa17b3\">\n",
              "    <div class=\"colab-df-container\">\n",
              "      <div>\n",
              "<style scoped>\n",
              "    .dataframe tbody tr th:only-of-type {\n",
              "        vertical-align: middle;\n",
              "    }\n",
              "\n",
              "    .dataframe tbody tr th {\n",
              "        vertical-align: top;\n",
              "    }\n",
              "\n",
              "    .dataframe thead th {\n",
              "        text-align: right;\n",
              "    }\n",
              "</style>\n",
              "<table border=\"1\" class=\"dataframe\">\n",
              "  <thead>\n",
              "    <tr style=\"text-align: right;\">\n",
              "      <th></th>\n",
              "      <th>sepal length (cm)</th>\n",
              "      <th>sepal width (cm)</th>\n",
              "      <th>petal length (cm)</th>\n",
              "      <th>petal width (cm)</th>\n",
              "      <th>target</th>\n",
              "    </tr>\n",
              "  </thead>\n",
              "  <tbody>\n",
              "    <tr>\n",
              "      <th>0</th>\n",
              "      <td>5.1</td>\n",
              "      <td>3.5</td>\n",
              "      <td>1.4</td>\n",
              "      <td>0.2</td>\n",
              "      <td>0</td>\n",
              "    </tr>\n",
              "    <tr>\n",
              "      <th>1</th>\n",
              "      <td>4.9</td>\n",
              "      <td>3.0</td>\n",
              "      <td>1.4</td>\n",
              "      <td>0.2</td>\n",
              "      <td>0</td>\n",
              "    </tr>\n",
              "    <tr>\n",
              "      <th>2</th>\n",
              "      <td>4.7</td>\n",
              "      <td>3.2</td>\n",
              "      <td>1.3</td>\n",
              "      <td>0.2</td>\n",
              "      <td>0</td>\n",
              "    </tr>\n",
              "    <tr>\n",
              "      <th>3</th>\n",
              "      <td>4.6</td>\n",
              "      <td>3.1</td>\n",
              "      <td>1.5</td>\n",
              "      <td>0.2</td>\n",
              "      <td>0</td>\n",
              "    </tr>\n",
              "    <tr>\n",
              "      <th>4</th>\n",
              "      <td>5.0</td>\n",
              "      <td>3.6</td>\n",
              "      <td>1.4</td>\n",
              "      <td>0.2</td>\n",
              "      <td>0</td>\n",
              "    </tr>\n",
              "    <tr>\n",
              "      <th>...</th>\n",
              "      <td>...</td>\n",
              "      <td>...</td>\n",
              "      <td>...</td>\n",
              "      <td>...</td>\n",
              "      <td>...</td>\n",
              "    </tr>\n",
              "    <tr>\n",
              "      <th>145</th>\n",
              "      <td>6.7</td>\n",
              "      <td>3.0</td>\n",
              "      <td>5.2</td>\n",
              "      <td>2.3</td>\n",
              "      <td>2</td>\n",
              "    </tr>\n",
              "    <tr>\n",
              "      <th>146</th>\n",
              "      <td>6.3</td>\n",
              "      <td>2.5</td>\n",
              "      <td>5.0</td>\n",
              "      <td>1.9</td>\n",
              "      <td>2</td>\n",
              "    </tr>\n",
              "    <tr>\n",
              "      <th>147</th>\n",
              "      <td>6.5</td>\n",
              "      <td>3.0</td>\n",
              "      <td>5.2</td>\n",
              "      <td>2.0</td>\n",
              "      <td>2</td>\n",
              "    </tr>\n",
              "    <tr>\n",
              "      <th>148</th>\n",
              "      <td>6.2</td>\n",
              "      <td>3.4</td>\n",
              "      <td>5.4</td>\n",
              "      <td>2.3</td>\n",
              "      <td>2</td>\n",
              "    </tr>\n",
              "    <tr>\n",
              "      <th>149</th>\n",
              "      <td>5.9</td>\n",
              "      <td>3.0</td>\n",
              "      <td>5.1</td>\n",
              "      <td>1.8</td>\n",
              "      <td>2</td>\n",
              "    </tr>\n",
              "  </tbody>\n",
              "</table>\n",
              "<p>150 rows × 5 columns</p>\n",
              "</div>\n",
              "      <button class=\"colab-df-convert\" onclick=\"convertToInteractive('df-aba39d39-05b7-4b71-a7b9-b9498ffa17b3')\"\n",
              "              title=\"Convert this dataframe to an interactive table.\"\n",
              "              style=\"display:none;\">\n",
              "        \n",
              "  <svg xmlns=\"http://www.w3.org/2000/svg\" height=\"24px\"viewBox=\"0 0 24 24\"\n",
              "       width=\"24px\">\n",
              "    <path d=\"M0 0h24v24H0V0z\" fill=\"none\"/>\n",
              "    <path d=\"M18.56 5.44l.94 2.06.94-2.06 2.06-.94-2.06-.94-.94-2.06-.94 2.06-2.06.94zm-11 1L8.5 8.5l.94-2.06 2.06-.94-2.06-.94L8.5 2.5l-.94 2.06-2.06.94zm10 10l.94 2.06.94-2.06 2.06-.94-2.06-.94-.94-2.06-.94 2.06-2.06.94z\"/><path d=\"M17.41 7.96l-1.37-1.37c-.4-.4-.92-.59-1.43-.59-.52 0-1.04.2-1.43.59L10.3 9.45l-7.72 7.72c-.78.78-.78 2.05 0 2.83L4 21.41c.39.39.9.59 1.41.59.51 0 1.02-.2 1.41-.59l7.78-7.78 2.81-2.81c.8-.78.8-2.07 0-2.86zM5.41 20L4 18.59l7.72-7.72 1.47 1.35L5.41 20z\"/>\n",
              "  </svg>\n",
              "      </button>\n",
              "      \n",
              "  <style>\n",
              "    .colab-df-container {\n",
              "      display:flex;\n",
              "      flex-wrap:wrap;\n",
              "      gap: 12px;\n",
              "    }\n",
              "\n",
              "    .colab-df-convert {\n",
              "      background-color: #E8F0FE;\n",
              "      border: none;\n",
              "      border-radius: 50%;\n",
              "      cursor: pointer;\n",
              "      display: none;\n",
              "      fill: #1967D2;\n",
              "      height: 32px;\n",
              "      padding: 0 0 0 0;\n",
              "      width: 32px;\n",
              "    }\n",
              "\n",
              "    .colab-df-convert:hover {\n",
              "      background-color: #E2EBFA;\n",
              "      box-shadow: 0px 1px 2px rgba(60, 64, 67, 0.3), 0px 1px 3px 1px rgba(60, 64, 67, 0.15);\n",
              "      fill: #174EA6;\n",
              "    }\n",
              "\n",
              "    [theme=dark] .colab-df-convert {\n",
              "      background-color: #3B4455;\n",
              "      fill: #D2E3FC;\n",
              "    }\n",
              "\n",
              "    [theme=dark] .colab-df-convert:hover {\n",
              "      background-color: #434B5C;\n",
              "      box-shadow: 0px 1px 3px 1px rgba(0, 0, 0, 0.15);\n",
              "      filter: drop-shadow(0px 1px 2px rgba(0, 0, 0, 0.3));\n",
              "      fill: #FFFFFF;\n",
              "    }\n",
              "  </style>\n",
              "\n",
              "      <script>\n",
              "        const buttonEl =\n",
              "          document.querySelector('#df-aba39d39-05b7-4b71-a7b9-b9498ffa17b3 button.colab-df-convert');\n",
              "        buttonEl.style.display =\n",
              "          google.colab.kernel.accessAllowed ? 'block' : 'none';\n",
              "\n",
              "        async function convertToInteractive(key) {\n",
              "          const element = document.querySelector('#df-aba39d39-05b7-4b71-a7b9-b9498ffa17b3');\n",
              "          const dataTable =\n",
              "            await google.colab.kernel.invokeFunction('convertToInteractive',\n",
              "                                                     [key], {});\n",
              "          if (!dataTable) return;\n",
              "\n",
              "          const docLinkHtml = 'Like what you see? Visit the ' +\n",
              "            '<a target=\"_blank\" href=https://colab.research.google.com/notebooks/data_table.ipynb>data table notebook</a>'\n",
              "            + ' to learn more about interactive tables.';\n",
              "          element.innerHTML = '';\n",
              "          dataTable['output_type'] = 'display_data';\n",
              "          await google.colab.output.renderOutput(dataTable, element);\n",
              "          const docLink = document.createElement('div');\n",
              "          docLink.innerHTML = docLinkHtml;\n",
              "          element.appendChild(docLink);\n",
              "        }\n",
              "      </script>\n",
              "    </div>\n",
              "  </div>\n",
              "  "
            ]
          },
          "metadata": {},
          "execution_count": 6
        }
      ]
    },
    {
      "cell_type": "code",
      "source": [
        "# Otro metodo\n",
        "\n",
        "# Importamos el csv \n",
        "df_iris = pd.read_csv('iris.csv')\n",
        "\n",
        "# Crear objeto LabelEncoder\n",
        "le = LabelEncoder()\n",
        "\n",
        "# Aplicar LabelEncoder a los datos\n",
        "encoded_data = le.fit_transform(df_iris['target'])\n",
        "\n",
        "# Imprimir los datos codificados\n",
        "print(encoded_data)\n",
        "\n",
        "df_iris['target'] = encoded_data\n",
        "df_iris"
      ],
      "metadata": {
        "colab": {
          "base_uri": "https://localhost:8080/",
          "height": 510
        },
        "id": "jqHe_kau7I37",
        "outputId": "5b9de376-184c-4e93-a6ce-831471d3cdda"
      },
      "execution_count": 7,
      "outputs": [
        {
          "output_type": "stream",
          "name": "stdout",
          "text": [
            "[0 0 0 0 0 0 0 0 0 0 0 0 0 0 0 0 0 0 0 0 0 0 0 0 0 0 0 0 0 0 0 0 0 0 0 0 0\n",
            " 0 0 0 0 0 0 0 0 0 0 0 0 0 1 1 1 1 1 1 1 1 1 1 1 1 1 1 1 1 1 1 1 1 1 1 1 1\n",
            " 1 1 1 1 1 1 1 1 1 1 1 1 1 1 1 1 1 1 1 1 1 1 1 1 1 1 2 2 2 2 2 2 2 2 2 2 2\n",
            " 2 2 2 2 2 2 2 2 2 2 2 2 2 2 2 2 2 2 2 2 2 2 2 2 2 2 2 2 2 2 2 2 2 2 2 2 2\n",
            " 2 2]\n"
          ]
        },
        {
          "output_type": "execute_result",
          "data": {
            "text/plain": [
              "     sepal length (cm)  sepal width (cm)  petal length (cm)  petal width (cm)  \\\n",
              "0                  5.1               3.5                1.4               0.2   \n",
              "1                  4.9               3.0                1.4               0.2   \n",
              "2                  4.7               3.2                1.3               0.2   \n",
              "3                  4.6               3.1                1.5               0.2   \n",
              "4                  5.0               3.6                1.4               0.2   \n",
              "..                 ...               ...                ...               ...   \n",
              "145                6.7               3.0                5.2               2.3   \n",
              "146                6.3               2.5                5.0               1.9   \n",
              "147                6.5               3.0                5.2               2.0   \n",
              "148                6.2               3.4                5.4               2.3   \n",
              "149                5.9               3.0                5.1               1.8   \n",
              "\n",
              "     target  \n",
              "0         0  \n",
              "1         0  \n",
              "2         0  \n",
              "3         0  \n",
              "4         0  \n",
              "..      ...  \n",
              "145       2  \n",
              "146       2  \n",
              "147       2  \n",
              "148       2  \n",
              "149       2  \n",
              "\n",
              "[150 rows x 5 columns]"
            ],
            "text/html": [
              "\n",
              "  <div id=\"df-e210d73f-90d3-4bee-b28a-c892c020d7b1\">\n",
              "    <div class=\"colab-df-container\">\n",
              "      <div>\n",
              "<style scoped>\n",
              "    .dataframe tbody tr th:only-of-type {\n",
              "        vertical-align: middle;\n",
              "    }\n",
              "\n",
              "    .dataframe tbody tr th {\n",
              "        vertical-align: top;\n",
              "    }\n",
              "\n",
              "    .dataframe thead th {\n",
              "        text-align: right;\n",
              "    }\n",
              "</style>\n",
              "<table border=\"1\" class=\"dataframe\">\n",
              "  <thead>\n",
              "    <tr style=\"text-align: right;\">\n",
              "      <th></th>\n",
              "      <th>sepal length (cm)</th>\n",
              "      <th>sepal width (cm)</th>\n",
              "      <th>petal length (cm)</th>\n",
              "      <th>petal width (cm)</th>\n",
              "      <th>target</th>\n",
              "    </tr>\n",
              "  </thead>\n",
              "  <tbody>\n",
              "    <tr>\n",
              "      <th>0</th>\n",
              "      <td>5.1</td>\n",
              "      <td>3.5</td>\n",
              "      <td>1.4</td>\n",
              "      <td>0.2</td>\n",
              "      <td>0</td>\n",
              "    </tr>\n",
              "    <tr>\n",
              "      <th>1</th>\n",
              "      <td>4.9</td>\n",
              "      <td>3.0</td>\n",
              "      <td>1.4</td>\n",
              "      <td>0.2</td>\n",
              "      <td>0</td>\n",
              "    </tr>\n",
              "    <tr>\n",
              "      <th>2</th>\n",
              "      <td>4.7</td>\n",
              "      <td>3.2</td>\n",
              "      <td>1.3</td>\n",
              "      <td>0.2</td>\n",
              "      <td>0</td>\n",
              "    </tr>\n",
              "    <tr>\n",
              "      <th>3</th>\n",
              "      <td>4.6</td>\n",
              "      <td>3.1</td>\n",
              "      <td>1.5</td>\n",
              "      <td>0.2</td>\n",
              "      <td>0</td>\n",
              "    </tr>\n",
              "    <tr>\n",
              "      <th>4</th>\n",
              "      <td>5.0</td>\n",
              "      <td>3.6</td>\n",
              "      <td>1.4</td>\n",
              "      <td>0.2</td>\n",
              "      <td>0</td>\n",
              "    </tr>\n",
              "    <tr>\n",
              "      <th>...</th>\n",
              "      <td>...</td>\n",
              "      <td>...</td>\n",
              "      <td>...</td>\n",
              "      <td>...</td>\n",
              "      <td>...</td>\n",
              "    </tr>\n",
              "    <tr>\n",
              "      <th>145</th>\n",
              "      <td>6.7</td>\n",
              "      <td>3.0</td>\n",
              "      <td>5.2</td>\n",
              "      <td>2.3</td>\n",
              "      <td>2</td>\n",
              "    </tr>\n",
              "    <tr>\n",
              "      <th>146</th>\n",
              "      <td>6.3</td>\n",
              "      <td>2.5</td>\n",
              "      <td>5.0</td>\n",
              "      <td>1.9</td>\n",
              "      <td>2</td>\n",
              "    </tr>\n",
              "    <tr>\n",
              "      <th>147</th>\n",
              "      <td>6.5</td>\n",
              "      <td>3.0</td>\n",
              "      <td>5.2</td>\n",
              "      <td>2.0</td>\n",
              "      <td>2</td>\n",
              "    </tr>\n",
              "    <tr>\n",
              "      <th>148</th>\n",
              "      <td>6.2</td>\n",
              "      <td>3.4</td>\n",
              "      <td>5.4</td>\n",
              "      <td>2.3</td>\n",
              "      <td>2</td>\n",
              "    </tr>\n",
              "    <tr>\n",
              "      <th>149</th>\n",
              "      <td>5.9</td>\n",
              "      <td>3.0</td>\n",
              "      <td>5.1</td>\n",
              "      <td>1.8</td>\n",
              "      <td>2</td>\n",
              "    </tr>\n",
              "  </tbody>\n",
              "</table>\n",
              "<p>150 rows × 5 columns</p>\n",
              "</div>\n",
              "      <button class=\"colab-df-convert\" onclick=\"convertToInteractive('df-e210d73f-90d3-4bee-b28a-c892c020d7b1')\"\n",
              "              title=\"Convert this dataframe to an interactive table.\"\n",
              "              style=\"display:none;\">\n",
              "        \n",
              "  <svg xmlns=\"http://www.w3.org/2000/svg\" height=\"24px\"viewBox=\"0 0 24 24\"\n",
              "       width=\"24px\">\n",
              "    <path d=\"M0 0h24v24H0V0z\" fill=\"none\"/>\n",
              "    <path d=\"M18.56 5.44l.94 2.06.94-2.06 2.06-.94-2.06-.94-.94-2.06-.94 2.06-2.06.94zm-11 1L8.5 8.5l.94-2.06 2.06-.94-2.06-.94L8.5 2.5l-.94 2.06-2.06.94zm10 10l.94 2.06.94-2.06 2.06-.94-2.06-.94-.94-2.06-.94 2.06-2.06.94z\"/><path d=\"M17.41 7.96l-1.37-1.37c-.4-.4-.92-.59-1.43-.59-.52 0-1.04.2-1.43.59L10.3 9.45l-7.72 7.72c-.78.78-.78 2.05 0 2.83L4 21.41c.39.39.9.59 1.41.59.51 0 1.02-.2 1.41-.59l7.78-7.78 2.81-2.81c.8-.78.8-2.07 0-2.86zM5.41 20L4 18.59l7.72-7.72 1.47 1.35L5.41 20z\"/>\n",
              "  </svg>\n",
              "      </button>\n",
              "      \n",
              "  <style>\n",
              "    .colab-df-container {\n",
              "      display:flex;\n",
              "      flex-wrap:wrap;\n",
              "      gap: 12px;\n",
              "    }\n",
              "\n",
              "    .colab-df-convert {\n",
              "      background-color: #E8F0FE;\n",
              "      border: none;\n",
              "      border-radius: 50%;\n",
              "      cursor: pointer;\n",
              "      display: none;\n",
              "      fill: #1967D2;\n",
              "      height: 32px;\n",
              "      padding: 0 0 0 0;\n",
              "      width: 32px;\n",
              "    }\n",
              "\n",
              "    .colab-df-convert:hover {\n",
              "      background-color: #E2EBFA;\n",
              "      box-shadow: 0px 1px 2px rgba(60, 64, 67, 0.3), 0px 1px 3px 1px rgba(60, 64, 67, 0.15);\n",
              "      fill: #174EA6;\n",
              "    }\n",
              "\n",
              "    [theme=dark] .colab-df-convert {\n",
              "      background-color: #3B4455;\n",
              "      fill: #D2E3FC;\n",
              "    }\n",
              "\n",
              "    [theme=dark] .colab-df-convert:hover {\n",
              "      background-color: #434B5C;\n",
              "      box-shadow: 0px 1px 3px 1px rgba(0, 0, 0, 0.15);\n",
              "      filter: drop-shadow(0px 1px 2px rgba(0, 0, 0, 0.3));\n",
              "      fill: #FFFFFF;\n",
              "    }\n",
              "  </style>\n",
              "\n",
              "      <script>\n",
              "        const buttonEl =\n",
              "          document.querySelector('#df-e210d73f-90d3-4bee-b28a-c892c020d7b1 button.colab-df-convert');\n",
              "        buttonEl.style.display =\n",
              "          google.colab.kernel.accessAllowed ? 'block' : 'none';\n",
              "\n",
              "        async function convertToInteractive(key) {\n",
              "          const element = document.querySelector('#df-e210d73f-90d3-4bee-b28a-c892c020d7b1');\n",
              "          const dataTable =\n",
              "            await google.colab.kernel.invokeFunction('convertToInteractive',\n",
              "                                                     [key], {});\n",
              "          if (!dataTable) return;\n",
              "\n",
              "          const docLinkHtml = 'Like what you see? Visit the ' +\n",
              "            '<a target=\"_blank\" href=https://colab.research.google.com/notebooks/data_table.ipynb>data table notebook</a>'\n",
              "            + ' to learn more about interactive tables.';\n",
              "          element.innerHTML = '';\n",
              "          dataTable['output_type'] = 'display_data';\n",
              "          await google.colab.output.renderOutput(dataTable, element);\n",
              "          const docLink = document.createElement('div');\n",
              "          docLink.innerHTML = docLinkHtml;\n",
              "          element.appendChild(docLink);\n",
              "        }\n",
              "      </script>\n",
              "    </div>\n",
              "  </div>\n",
              "  "
            ]
          },
          "metadata": {},
          "execution_count": 7
        }
      ]
    },
    {
      "cell_type": "markdown",
      "source": [
        "## 1.3 Escalar datos"
      ],
      "metadata": {
        "id": "Ph_60k71-9na"
      }
    },
    {
      "cell_type": "code",
      "source": [
        "# Definimos datos de entrada \"x\" y datos de salida \"y\"\n",
        "df_iris_data = df_iris.drop(['target'], axis = 1)\n",
        "df_iris_etiquetas = df_iris['target']"
      ],
      "metadata": {
        "id": "DC-AiYY1-x58"
      },
      "execution_count": 8,
      "outputs": []
    },
    {
      "cell_type": "code",
      "source": [
        "# Escalar los datos!\n",
        "# Crear un objeto MinMaxScaler\n",
        "scaler = MinMaxScaler()\n",
        "\n",
        "# Escalar los datos de características\n",
        "df_iris_data = scaler.fit_transform(df_iris_data)"
      ],
      "metadata": {
        "id": "P6ca8LZxCGhC"
      },
      "execution_count": 9,
      "outputs": []
    },
    {
      "cell_type": "markdown",
      "source": [
        "## 1.4 Definir datos de entrenamiento y de prueba"
      ],
      "metadata": {
        "id": "dn5dtMzi_DNr"
      }
    },
    {
      "cell_type": "code",
      "source": [
        "# Dividir los datos en conjuntos de entrenamiento y prueba\n",
        "X_train, X_test, y_train, y_test = train_test_split(df_iris_data, df_iris_etiquetas, test_size=0.2, random_state=0)"
      ],
      "metadata": {
        "id": "Wo4mhtes-ycz"
      },
      "execution_count": 10,
      "outputs": []
    },
    {
      "cell_type": "markdown",
      "source": [
        "## 1.5 Definir arquitectura del modelo"
      ],
      "metadata": {
        "id": "PgJp5LMl_MSK"
      }
    },
    {
      "cell_type": "code",
      "source": [
        "model_iris = tf.keras.models.Sequential([\n",
        "    # Densa de 128 neuronas \n",
        "    tf.keras.layers.Dense(12, activation='relu', input_shape=(4,)),\n",
        "    # tf.keras.layers.Dense(32, activation='relu'),\n",
        "    # tf.keras.layers.Dense(16, activation='relu'),\n",
        "\n",
        "    # 3 Clases\n",
        "    tf.keras.layers.Dense(3, activation='softmax')\n",
        "])"
      ],
      "metadata": {
        "id": "ltJLRs1uAw_k"
      },
      "execution_count": 11,
      "outputs": []
    },
    {
      "cell_type": "code",
      "source": [
        "# Veamos la arquitectura y el conteo de parametros\n",
        "model_iris.summary()"
      ],
      "metadata": {
        "colab": {
          "base_uri": "https://localhost:8080/"
        },
        "id": "IXpScTaQ8C67",
        "outputId": "1325f46e-f50f-45d1-fba6-cf7cff7f6d1c"
      },
      "execution_count": 12,
      "outputs": [
        {
          "output_type": "stream",
          "name": "stdout",
          "text": [
            "Model: \"sequential\"\n",
            "_________________________________________________________________\n",
            " Layer (type)                Output Shape              Param #   \n",
            "=================================================================\n",
            " dense (Dense)               (None, 12)                60        \n",
            "                                                                 \n",
            " dense_1 (Dense)             (None, 3)                 39        \n",
            "                                                                 \n",
            "=================================================================\n",
            "Total params: 99\n",
            "Trainable params: 99\n",
            "Non-trainable params: 0\n",
            "_________________________________________________________________\n"
          ]
        }
      ]
    },
    {
      "cell_type": "markdown",
      "source": [
        "### Pesos sinapticos"
      ],
      "metadata": {
        "id": "SJGnawoKCRu5"
      }
    },
    {
      "cell_type": "code",
      "source": [],
      "metadata": {
        "id": "4e5zsN_kCc3r"
      },
      "execution_count": null,
      "outputs": []
    },
    {
      "cell_type": "markdown",
      "source": [
        "## 1.6 Compilar modelo"
      ],
      "metadata": {
        "id": "NzyUiHYNCdn6"
      }
    },
    {
      "cell_type": "code",
      "source": [
        "model_iris.compile(loss = 'sparse_categorical_crossentropy', optimizer='adam',  metrics=['accuracy'])"
      ],
      "metadata": {
        "id": "TQT0nlLw8E_r"
      },
      "execution_count": 13,
      "outputs": []
    },
    {
      "cell_type": "markdown",
      "source": [
        "## 1.7 Entrenar modelo"
      ],
      "metadata": {
        "id": "vsGaQmxpChth"
      }
    },
    {
      "cell_type": "code",
      "source": [
        "history = model_iris.fit(X_train, y_train,epochs = 100, \n",
        "                    validation_data = (X_test, y_test), \n",
        "                    verbose= 0\n",
        "                    )"
      ],
      "metadata": {
        "id": "9IogXUxw8HOS"
      },
      "execution_count": 14,
      "outputs": []
    },
    {
      "cell_type": "markdown",
      "source": [
        "## 1.8 Gráficos y métricas"
      ],
      "metadata": {
        "id": "g8Txz-PsCnyQ"
      }
    },
    {
      "cell_type": "markdown",
      "source": [
        "### 1.8.1.1 Curvas de entrenamiento"
      ],
      "metadata": {
        "id": "JDX4atOaDSWJ"
      }
    },
    {
      "cell_type": "code",
      "source": [
        "# Función para graficar\n",
        "def plot_graphs(history, string):\n",
        "  plt.plot(history.history[string], color='blue')\n",
        "  plt.plot(history.history['val_'+string], color='red')\n",
        "  plt.xlabel(\"Epochs\")\n",
        "  plt.ylabel(string)\n",
        "  plt.legend([string, 'val_'+string])\n",
        "  plt.show()\n",
        "\n",
        "# Graficar curvas de loss y accuracy para datos de entrenamiento y validación\n",
        "plot_graphs(history, 'accuracy')\n",
        "plot_graphs(history, 'loss')"
      ],
      "metadata": {
        "colab": {
          "base_uri": "https://localhost:8080/",
          "height": 881
        },
        "id": "3rGoMxbi8Lir",
        "outputId": "c72e0276-e436-4656-a28e-f5706172205b"
      },
      "execution_count": 15,
      "outputs": [
        {
          "output_type": "display_data",
          "data": {
            "text/plain": [
              "<Figure size 640x480 with 1 Axes>"
            ],
            "image/png": "[encoded data removed]"
          },
          "metadata": {}
        },
        {
          "output_type": "display_data",
          "data": {
            "text/plain": [
              "<Figure size 640x480 with 1 Axes>"
            ],
            "image/png": "[encoded data removed]"
          },
          "metadata": {}
        }
      ]
    },
    {
      "cell_type": "markdown",
      "source": [
        "### 1.8.1.2 Métricas y matriz de confusión"
      ],
      "metadata": {
        "id": "0ZACPha9DZ_Y"
      }
    },
    {
      "cell_type": "code",
      "source": [
        "test_loss, test_acc = model_iris.evaluate(X_test,  y_test, verbose=2)\n",
        "print('\\nTest accuracy:', test_acc)"
      ],
      "metadata": {
        "colab": {
          "base_uri": "https://localhost:8080/"
        },
        "outputId": "2303fb52-d12c-472b-fe62-fd86e4786545",
        "id": "pZR8zWEmQeEj"
      },
      "execution_count": 16,
      "outputs": [
        {
          "output_type": "stream",
          "name": "stdout",
          "text": [
            "1/1 - 0s - loss: 0.8772 - accuracy: 0.5667 - 23ms/epoch - 23ms/step\n",
            "\n",
            "Test accuracy: 0.5666666626930237\n"
          ]
        }
      ]
    },
    {
      "cell_type": "code",
      "source": [
        "from sklearn.metrics import precision_score, recall_score, f1_score\n",
        "# Obtener las predicciones del modelo\n",
        "y_pred = model_iris.predict(X_test)\n",
        "y_pred = np.argmax(y_pred, axis=1)\n",
        "\n",
        "# Calcular los valores de precisión, recall y f1 score\n",
        "precision = precision_score(y_test, y_pred, average='weighted', zero_division=True)\n",
        "recall = recall_score(y_test, y_pred, average='weighted')\n",
        "f1 = f1_score(y_test, y_pred, average='weighted')\n",
        "\n",
        "# Imprimir los resultados\n",
        "print('Precision: {:.2f}'.format(precision))\n",
        "print('Recall: {:.2f}'.format(recall))\n",
        "print('F1 score: {:.2f}'.format(f1))\n"
      ],
      "metadata": {
        "colab": {
          "base_uri": "https://localhost:8080/"
        },
        "id": "ENl4Tt6c-PuC",
        "outputId": "22e79b13-966d-46a7-88da-73d81fb657db"
      },
      "execution_count": 41,
      "outputs": [
        {
          "output_type": "stream",
          "name": "stdout",
          "text": [
            "1/1 [==============================] - 0s 47ms/step\n",
            "Precision: 0.86\n",
            "Recall: 0.57\n",
            "F1 score: 0.46\n"
          ]
        }
      ]
    },
    {
      "cell_type": "code",
      "source": [
        "import numpy as np\n",
        "import matplotlib.pyplot as plt\n",
        "from sklearn.metrics import confusion_matrix\n",
        "import itertools\n",
        "classes=['setosa', 'versicolor', 'virginica']\n",
        "# Obtener los índices de la clase con mayor probabilidad de cada muestra\n",
        "\n",
        "# Calcular la matriz de confusión\n",
        "confusion_mtx = confusion_matrix(y_test, y_pred)\n",
        "\n",
        "# Plotear la matriz de confusión\n",
        "plt.figure(figsize=(10,8))\n",
        "plt.imshow(confusion_mtx, interpolation='nearest', cmap=plt.cm.Blues)\n",
        "plt.title('Matriz de Confusión')\n",
        "plt.colorbar()\n",
        "tick_marks = np.arange(len(classes))\n",
        "plt.xticks(tick_marks, classes, rotation=45)\n",
        "plt.yticks(tick_marks, classes)\n",
        "plt.xlabel('Predicción')\n",
        "plt.ylabel('Etiqueta verdadera')\n",
        "thresh = confusion_mtx.max() / 2.\n",
        "for i, j in itertools.product(range(confusion_mtx.shape[0]), range(confusion_mtx.shape[1])):\n",
        "    plt.text(j, i, format(confusion_mtx[i, j], 'd'),\n",
        "             horizontalalignment=\"center\",\n",
        "             color=\"white\" if confusion_mtx[i, j] > thresh else \"black\")\n",
        "plt.tight_layout()\n",
        "plt.show()\n"
      ],
      "metadata": {
        "colab": {
          "base_uri": "https://localhost:8080/",
          "height": 807
        },
        "id": "HUT5FZTW-XuK",
        "outputId": "4f6d3f3b-6596-4ec4-d84c-5b50eb14771b"
      },
      "execution_count": 40,
      "outputs": [
        {
          "output_type": "display_data",
          "data": {
            "text/plain": [
              "<Figure size 1000x800 with 2 Axes>"
            ],
            "image/png": "[encoded data removed]"
          },
          "metadata": {}
        }
      ]
    },
    {
      "cell_type": "markdown",
      "source": [
        "## 1.9 Pruebas de predicción"
      ],
      "metadata": {
        "id": "xzBd2vLjDnQJ"
      }
    },
    {
      "cell_type": "code",
      "source": [
        "predictions = model_iris.predict(X_test)"
      ],
      "metadata": {
        "colab": {
          "base_uri": "https://localhost:8080/"
        },
        "outputId": "9a62ba9f-a8d8-4ab9-96e3-fd58ff208248",
        "id": "acU2iAaSQeEj"
      },
      "execution_count": 18,
      "outputs": [
        {
          "output_type": "stream",
          "name": "stdout",
          "text": [
            "1/1 [==============================] - 0s 21ms/step\n"
          ]
        }
      ]
    },
    {
      "cell_type": "code",
      "source": [
        "n_flor=5\n",
        "clase=predictions[n_flor].argmax()\n",
        "prob=str(predictions[n_flor].max())\n",
        "\n",
        "class_names = ['setosa', 'versicolor', 'virginica']\n",
        "\n",
        "print(f\"Existe una confianza del {prob} de que esta flor corresponde a la clase: '{class_names[clase]}' y su etiqueta es: '{class_names[list(y_test)[n_flor]]}'\") "
      ],
      "metadata": {
        "colab": {
          "base_uri": "https://localhost:8080/"
        },
        "outputId": "e72a671e-64f9-4acf-b0e8-bc4354eef2f0",
        "id": "x1maXy1mQeEk"
      },
      "execution_count": 19,
      "outputs": [
        {
          "output_type": "stream",
          "name": "stdout",
          "text": [
            "Existe una confianza del 0.59299856 de que esta flor corresponde a la clase: 'virginica' y su etiqueta es: 'virginica'\n"
          ]
        }
      ]
    },
    {
      "cell_type": "markdown",
      "source": [
        "# 2 Ejemplo Fashion mnist"
      ],
      "metadata": {
        "id": "p61Il_QWG4IY"
      }
    },
    {
      "cell_type": "markdown",
      "source": [
        "## 2.1 Carga de dataset y definición de datos de entrenamiento y prueba"
      ],
      "metadata": {
        "id": "4p2ErXRoFo1f"
      }
    },
    {
      "cell_type": "code",
      "source": [
        "# Dividimos en train y test\n",
        "(train_images, train_labels), (test_images, test_labels) = fashion_mnist.load_data()"
      ],
      "metadata": {
        "id": "VFSHnL_C7_9D",
        "colab": {
          "base_uri": "https://localhost:8080/"
        },
        "outputId": "7c3dafef-3d3d-4388-cdbf-4453d9b70aed"
      },
      "execution_count": 20,
      "outputs": [
        {
          "output_type": "stream",
          "name": "stdout",
          "text": [
            "Downloading data from https://storage.googleapis.com/tensorflow/tf-keras-datasets/train-labels-idx1-ubyte.gz\n",
            "29515/29515 [==============================] - 0s 0us/step\n",
            "Downloading data from https://storage.googleapis.com/tensorflow/tf-keras-datasets/train-images-idx3-ubyte.gz\n",
            "26421880/26421880 [==============================] - 0s 0us/step\n",
            "Downloading data from https://storage.googleapis.com/tensorflow/tf-keras-datasets/t10k-labels-idx1-ubyte.gz\n",
            "5148/5148 [==============================] - 0s 0us/step\n",
            "Downloading data from https://storage.googleapis.com/tensorflow/tf-keras-datasets/t10k-images-idx3-ubyte.gz\n",
            "4422102/4422102 [==============================] - 0s 0us/step\n"
          ]
        }
      ]
    },
    {
      "cell_type": "code",
      "source": [
        "train_images.shape"
      ],
      "metadata": {
        "colab": {
          "base_uri": "https://localhost:8080/"
        },
        "id": "ArKhlIsT8GMi",
        "outputId": "76df97db-c1a5-4a2c-c920-f035616209de"
      },
      "execution_count": 21,
      "outputs": [
        {
          "output_type": "execute_result",
          "data": {
            "text/plain": [
              "(60000, 28, 28)"
            ]
          },
          "metadata": {},
          "execution_count": 21
        }
      ]
    },
    {
      "cell_type": "code",
      "source": [
        "train_labels.shape"
      ],
      "metadata": {
        "colab": {
          "base_uri": "https://localhost:8080/"
        },
        "id": "p0wiLuOa5i_W",
        "outputId": "c1ca2ee4-3653-441d-91fd-61aed0446669"
      },
      "execution_count": 22,
      "outputs": [
        {
          "output_type": "execute_result",
          "data": {
            "text/plain": [
              "(60000,)"
            ]
          },
          "metadata": {},
          "execution_count": 22
        }
      ]
    },
    {
      "cell_type": "code",
      "source": [
        "type(train_images)"
      ],
      "metadata": {
        "colab": {
          "base_uri": "https://localhost:8080/"
        },
        "id": "aYluCDgg41b1",
        "outputId": "35c104f9-9dca-43e1-ae18-4f2f258d7b2e"
      },
      "execution_count": 23,
      "outputs": [
        {
          "output_type": "execute_result",
          "data": {
            "text/plain": [
              "numpy.ndarray"
            ]
          },
          "metadata": {},
          "execution_count": 23
        }
      ]
    },
    {
      "cell_type": "code",
      "source": [
        "plt.imshow(train_images[0]);"
      ],
      "metadata": {
        "colab": {
          "base_uri": "https://localhost:8080/",
          "height": 430
        },
        "id": "AieYubyo8MQa",
        "outputId": "30c0bd1d-a4e9-439c-d514-0eaad17d70b4"
      },
      "execution_count": 24,
      "outputs": [
        {
          "output_type": "display_data",
          "data": {
            "text/plain": [
              "<Figure size 640x480 with 1 Axes>"
            ],
            "image/png": "[encoded data removed]"
          },
          "metadata": {}
        }
      ]
    },
    {
      "cell_type": "code",
      "source": [
        "train_images = train_images.astype('float32') / 255 \n",
        "test_images = test_images.astype('float32') / 255"
      ],
      "metadata": {
        "id": "5tJRdCJq8QgC"
      },
      "execution_count": 25,
      "outputs": []
    },
    {
      "cell_type": "code",
      "source": [
        "train_images = train_images.reshape(train_images.shape[0],28, 28, 1) # el 1 es de un canal ya que estamos en escalda de grises, si fuera RGB seria 3.\n",
        "test_images = test_images.reshape(test_images.shape[0], 28, 28, 1)"
      ],
      "metadata": {
        "id": "NW90cGex8STK"
      },
      "execution_count": 26,
      "outputs": []
    },
    {
      "cell_type": "code",
      "source": [
        "train_labels = tf.keras.utils.to_categorical(train_labels, 10) # esta biblioteca sirve para poder estandarizar\n",
        "test_labels = tf.keras.utils.to_categorical(test_labels, 10)"
      ],
      "metadata": {
        "id": "pt86Clm_8VV6"
      },
      "execution_count": 27,
      "outputs": []
    },
    {
      "cell_type": "code",
      "source": [
        "train_images.shape"
      ],
      "metadata": {
        "colab": {
          "base_uri": "https://localhost:8080/"
        },
        "id": "zTPEJrhP8ldS",
        "outputId": "525f84ce-3440-4fa1-a326-10a557b10b5e"
      },
      "execution_count": 28,
      "outputs": [
        {
          "output_type": "execute_result",
          "data": {
            "text/plain": [
              "(60000, 28, 28, 1)"
            ]
          },
          "metadata": {},
          "execution_count": 28
        }
      ]
    },
    {
      "cell_type": "code",
      "source": [
        "train_labels.shape"
      ],
      "metadata": {
        "colab": {
          "base_uri": "https://localhost:8080/"
        },
        "id": "cNY9o2UC8pa7",
        "outputId": "e9e719d1-a7b6-4312-c1d9-9cd3ea05a81d"
      },
      "execution_count": 29,
      "outputs": [
        {
          "output_type": "execute_result",
          "data": {
            "text/plain": [
              "(60000, 10)"
            ]
          },
          "metadata": {},
          "execution_count": 29
        }
      ]
    },
    {
      "cell_type": "markdown",
      "source": [
        "## Definimos arquitectura, compilamos y entrenamos"
      ],
      "metadata": {
        "id": "Kf5lSvEB3N1O"
      }
    },
    {
      "cell_type": "code",
      "source": [
        "model_fmnist = tf.keras.models.Sequential([\n",
        "    tf.keras.layers.Input(shape=(28, 28, 1)),\n",
        "    # Definimos entrada de 28,28 a color\n",
        "    tf.keras.layers.Flatten(),\n",
        "    # Densa de 128 neuronas \n",
        "    tf.keras.layers.Dense(64, activation='relu'),\n",
        "    # tf.keras.layers.Dense(32, activation='relu'),\n",
        "    # tf.keras.layers.Dense(16, activation='relu'),\n",
        "    # 3 Clases\n",
        "    tf.keras.layers.Dense(10, activation='softmax')\n",
        "])"
      ],
      "metadata": {
        "id": "MdX36gJV9TAQ"
      },
      "execution_count": 30,
      "outputs": []
    },
    {
      "cell_type": "code",
      "source": [
        "model_fmnist.summary()"
      ],
      "metadata": {
        "colab": {
          "base_uri": "https://localhost:8080/"
        },
        "id": "UZxVNhHs9xNb",
        "outputId": "810b86ec-370a-4749-d7d2-441253a4e4f0"
      },
      "execution_count": 31,
      "outputs": [
        {
          "output_type": "stream",
          "name": "stdout",
          "text": [
            "Model: \"sequential_1\"\n",
            "_________________________________________________________________\n",
            " Layer (type)                Output Shape              Param #   \n",
            "=================================================================\n",
            " flatten (Flatten)           (None, 784)               0         \n",
            "                                                                 \n",
            " dense_2 (Dense)             (None, 64)                50240     \n",
            "                                                                 \n",
            " dense_3 (Dense)             (None, 10)                650       \n",
            "                                                                 \n",
            "=================================================================\n",
            "Total params: 50,890\n",
            "Trainable params: 50,890\n",
            "Non-trainable params: 0\n",
            "_________________________________________________________________\n"
          ]
        }
      ]
    },
    {
      "cell_type": "markdown",
      "source": [
        "Optimizadores en TF:\n",
        "\n",
        "Adadelta: Optimizer that implements the Adadelta algorithm.\n",
        "\n",
        "Adagrad: Optimizer that implements the Adagrad algorithm.\n",
        "\n",
        "**Adam: Optimizer that implements the Adam algorithm.**\n",
        "\n",
        "Adamax: Optimizer that implements the Adamax algorithm.\n",
        "\n",
        "Ftrl: Optimizer that implements the FTRL algorithm.\n",
        "\n",
        "Nadam: Optimizer that implements the NAdam algorithm.\n",
        "\n",
        "Optimizer: Base class for Keras optimizers.\n",
        "\n",
        "**RMSprop: Optimizer that implements the RMSprop algorithm.**\n",
        "\n",
        "SGD: Gradient descent (with momentum) optimizer.*texto en cursiva*\n",
        "\n",
        "https://www.tensorflow.org/api_docs/python/tf/optimizers"
      ],
      "metadata": {
        "id": "0CAPXWwoqhW9"
      }
    },
    {
      "cell_type": "code",
      "source": [
        "from keras.optimizers import Adam\n",
        "model_fmnist.compile(loss='categorical_crossentropy', optimizer=Adam(lr=0.0001), metrics=['accuracy'])"
      ],
      "metadata": {
        "id": "vDwYjggu95u6",
        "colab": {
          "base_uri": "https://localhost:8080/"
        },
        "outputId": "91784095-07a1-4222-d9e3-9ad78ccd74ad"
      },
      "execution_count": 32,
      "outputs": [
        {
          "output_type": "stream",
          "name": "stderr",
          "text": [
            "/usr/local/lib/python3.10/dist-packages/keras/optimizers/legacy/adam.py:117: UserWarning: The `lr` argument is deprecated, use `learning_rate` instead.\n",
            "  super().__init__(name, **kwargs)\n"
          ]
        }
      ]
    },
    {
      "cell_type": "markdown",
      "source": [
        "Losses:\n",
        "\n",
        "BinaryCrossentropy: Computes the cross-entropy loss between true labels and predicted labels.\n",
        "\n",
        "BinaryFocalCrossentropy: Computes the focal cross-entropy loss between true labels and predictions.\n",
        "\n",
        "CategoricalCrossentropy: Computes the crossentropy loss between the labels and predictions.\n",
        "\n",
        "CategoricalHinge: Computes the categorical hinge loss between y_true and y_pred.\n",
        "\n",
        "CosineSimilarity: Computes the cosine similarity between labels and predictions.\n",
        "\n",
        "Hinge: Computes the hinge loss between y_true and y_pred.\n",
        "\n",
        "Huber: Computes the Huber loss between y_true and y_pred.\n",
        "\n",
        "KLDivergence: Computes Kullback-Leibler divergence loss between y_true and y_pred.\n",
        "\n",
        "LogCosh: Computes the logarithm of the hyperbolic cosine of the prediction error.\n",
        "\n",
        "Loss: Loss base class.\n",
        "\n",
        "MeanAbsoluteError: Computes the mean of absolute difference between labels and predictions.\n",
        "\n",
        "MeanAbsolutePercentageError: Computes the mean absolute percentage error between y_true and y_pred.\n",
        "\n",
        "MeanSquaredError: Computes the mean of squares of errors between labels and predictions.\n",
        "\n",
        "MeanSquaredLogarithmicError: Computes the mean squared logarithmic error between y_true and y_pred.\n",
        "\n",
        "Poisson: Computes the Poisson loss between y_true and y_pred.\n",
        "\n",
        "Reduction: Types of loss reduction.\n",
        "\n",
        "SparseCategoricalCrossentropy: Computes the crossentropy loss between the labels and predictions.\n",
        "\n",
        "SquaredHinge: Computes the squared hinge loss between y_true and y_pred.\n",
        "\n",
        "https://www.tensorflow.org/api_docs/python/tf/keras/losses"
      ],
      "metadata": {
        "id": "60zYCVbBrz-7"
      }
    },
    {
      "cell_type": "code",
      "source": [
        "history = model_fmnist.fit(train_images, train_labels,epochs = 15, \n",
        "                    validation_data = (test_images, test_labels), \n",
        "                    verbose = 1, \n",
        "                    )"
      ],
      "metadata": {
        "colab": {
          "base_uri": "https://localhost:8080/"
        },
        "id": "z1dpwbOC-SER",
        "outputId": "fac93fbe-2dfd-41ba-9e4b-98d528fd4f5e"
      },
      "execution_count": 33,
      "outputs": [
        {
          "output_type": "stream",
          "name": "stdout",
          "text": [
            "Epoch 1/15\n",
            "1875/1875 [==============================] - 6s 3ms/step - loss: 0.7911 - accuracy: 0.7441 - val_loss: 0.5812 - val_accuracy: 0.8064\n",
            "Epoch 2/15\n",
            "1875/1875 [==============================] - 5s 2ms/step - loss: 0.5108 - accuracy: 0.8291 - val_loss: 0.5041 - val_accuracy: 0.8273\n",
            "Epoch 3/15\n",
            "1875/1875 [==============================] - 8s 4ms/step - loss: 0.4605 - accuracy: 0.8447 - val_loss: 0.4754 - val_accuracy: 0.8365\n",
            "Epoch 4/15\n",
            "1875/1875 [==============================] - 8s 4ms/step - loss: 0.4330 - accuracy: 0.8522 - val_loss: 0.4532 - val_accuracy: 0.8426\n",
            "Epoch 5/15\n",
            "1875/1875 [==============================] - 5s 3ms/step - loss: 0.4146 - accuracy: 0.8581 - val_loss: 0.4396 - val_accuracy: 0.8465\n",
            "Epoch 6/15\n",
            "1875/1875 [==============================] - 6s 3ms/step - loss: 0.4005 - accuracy: 0.8619 - val_loss: 0.4303 - val_accuracy: 0.8497\n",
            "Epoch 7/15\n",
            "1875/1875 [==============================] - 8s 4ms/step - loss: 0.3886 - accuracy: 0.8662 - val_loss: 0.4290 - val_accuracy: 0.8499\n",
            "Epoch 8/15\n",
            "1875/1875 [==============================] - 6s 3ms/step - loss: 0.3794 - accuracy: 0.8690 - val_loss: 0.4168 - val_accuracy: 0.8538\n",
            "Epoch 9/15\n",
            "1875/1875 [==============================] - 7s 4ms/step - loss: 0.3700 - accuracy: 0.8711 - val_loss: 0.4097 - val_accuracy: 0.8575\n",
            "Epoch 10/15\n",
            "1875/1875 [==============================] - 6s 3ms/step - loss: 0.3631 - accuracy: 0.8742 - val_loss: 0.4004 - val_accuracy: 0.8588\n",
            "Epoch 11/15\n",
            "1875/1875 [==============================] - 6s 3ms/step - loss: 0.3558 - accuracy: 0.8763 - val_loss: 0.3964 - val_accuracy: 0.8592\n",
            "Epoch 12/15\n",
            "1875/1875 [==============================] - 4s 2ms/step - loss: 0.3498 - accuracy: 0.8777 - val_loss: 0.3914 - val_accuracy: 0.8622\n",
            "Epoch 13/15\n",
            "1875/1875 [==============================] - 7s 4ms/step - loss: 0.3444 - accuracy: 0.8791 - val_loss: 0.3964 - val_accuracy: 0.8596\n",
            "Epoch 14/15\n",
            "1875/1875 [==============================] - 6s 3ms/step - loss: 0.3389 - accuracy: 0.8808 - val_loss: 0.3863 - val_accuracy: 0.8632\n",
            "Epoch 15/15\n",
            "1875/1875 [==============================] - 6s 3ms/step - loss: 0.3340 - accuracy: 0.8821 - val_loss: 0.3862 - val_accuracy: 0.8634\n"
          ]
        }
      ]
    },
    {
      "cell_type": "code",
      "source": [
        "# Plot Utility\n",
        "def plot_graphs(history, string):\n",
        "  plt.plot(history.history[string], color='blue')\n",
        "  plt.plot(history.history['val_'+string], color='red')\n",
        "  plt.xlabel(\"Epochs\")\n",
        "  plt.ylabel(string)\n",
        "  plt.legend([string, 'val_'+string])\n",
        "  plt.show()\n",
        "\n",
        "# Plot the accuracy and loss history\n",
        "plot_graphs(history, 'accuracy')\n",
        "plot_graphs(history, 'loss')"
      ],
      "metadata": {
        "colab": {
          "base_uri": "https://localhost:8080/",
          "height": 881
        },
        "id": "EbFXFZ5BNS4X",
        "outputId": "3450c09b-0cd6-4abd-f3b4-4281801a931f"
      },
      "execution_count": 34,
      "outputs": [
        {
          "output_type": "display_data",
          "data": {
            "text/plain": [
              "<Figure size 640x480 with 1 Axes>"
            ],
            "image/png": "[encoded data removed]"
          },
          "metadata": {}
        },
        {
          "output_type": "display_data",
          "data": {
            "text/plain": [
              "<Figure size 640x480 with 1 Axes>"
            ],
            "image/png": "[encoded data removed]"
          },
          "metadata": {}
        }
      ]
    },
    {
      "cell_type": "markdown",
      "source": [
        "## Continuamos con la evaluación del modelo"
      ],
      "metadata": {
        "id": "lhab5B2lND2V"
      }
    },
    {
      "cell_type": "code",
      "source": [
        "test_loss, test_acc = model_fmnist.evaluate(test_images,  test_labels, verbose=2)\n",
        "\n",
        "print('\\nTest accuracy:', test_acc)"
      ],
      "metadata": {
        "colab": {
          "base_uri": "https://localhost:8080/"
        },
        "id": "yQh0yfJZCb2v",
        "outputId": "a6a5d09a-8bdb-421d-ea78-b342bf79f003"
      },
      "execution_count": 35,
      "outputs": [
        {
          "output_type": "stream",
          "name": "stdout",
          "text": [
            "313/313 - 0s - loss: 0.3862 - accuracy: 0.8634 - 464ms/epoch - 1ms/step\n",
            "\n",
            "Test accuracy: 0.8633999824523926\n"
          ]
        }
      ]
    },
    {
      "cell_type": "code",
      "source": [
        "predictions = model_fmnist.predict(test_images)"
      ],
      "metadata": {
        "colab": {
          "base_uri": "https://localhost:8080/"
        },
        "id": "KpdSrqTeWNUf",
        "outputId": "c7d897f3-54b2-44cc-898d-c7844263d103"
      },
      "execution_count": 36,
      "outputs": [
        {
          "output_type": "stream",
          "name": "stdout",
          "text": [
            "313/313 [==============================] - 1s 2ms/step\n"
          ]
        }
      ]
    },
    {
      "cell_type": "code",
      "source": [
        "n_imagen=356\n",
        "clase=predictions[n_imagen].argmax()\n",
        "prob=str(predictions[n_imagen].max())\n",
        "\n",
        "class_names = ['T-shirt/top', 'Trouser', 'Pullover', 'Dress', 'Coat',\n",
        "               'Sandal', 'Shirt', 'Sneaker', 'Bag', 'Ankle boot']\n",
        "\n",
        "print('Existe una confianza del ' + prob + ' de que esta imagen corresponde a la clase: \"' + class_names[clase]+'\"') \n",
        "plt.imshow(test_images[n_imagen].reshape(28, 28))\n",
        "plt.show()"
      ],
      "metadata": {
        "colab": {
          "base_uri": "https://localhost:8080/",
          "height": 447
        },
        "id": "azaxn-RLWPqe",
        "outputId": "81b40297-f10d-4712-fbc8-46ea19626b79"
      },
      "execution_count": 37,
      "outputs": [
        {
          "output_type": "stream",
          "name": "stdout",
          "text": [
            "Existe una confianza del 0.7336286 de que esta imagen corresponde a la clase: \"Pullover\"\n"
          ]
        },
        {
          "output_type": "display_data",
          "data": {
            "text/plain": [
              "<Figure size 640x480 with 1 Axes>"
            ],
            "image/png": "[encoded data removed]"
          },
          "metadata": {}
        }
      ]
    },
    {
      "cell_type": "markdown",
      "source": [
        "# Tarea"
      ],
      "metadata": {
        "id": "b9AbzwqGOFeS"
      }
    },
    {
      "cell_type": "markdown",
      "source": [
        "\n",
        "\n",
        "*   Replicar y obtener mejores metricas\n",
        "*   Graficar curvas de accuracy y loss\n",
        "\n"
      ],
      "metadata": {
        "id": "o54BA7zTWZqc"
      }
    },
    {
      "cell_type": "markdown",
      "source": [
        "# Links!!!"
      ],
      "metadata": {
        "id": "KpAgv-kILIBw"
      }
    }
  ]
}